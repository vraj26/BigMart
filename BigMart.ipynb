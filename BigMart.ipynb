{
 "cells": [
  {
   "cell_type": "code",
   "execution_count": 1,
   "id": "f8957df0",
   "metadata": {},
   "outputs": [],
   "source": [
    "#import neccessary libraries\n",
    "import pandas as pd\n",
    "import numpy as np\n",
    "from sklearn.preprocessing import LabelEncoder\n",
    "from sklearn.linear_model import LinearRegression\n",
    "from sklearn.metrics import r2_score, mean_squared_error\n",
    "import matplotlib.pyplot as plt\n",
    "%matplotlib inline"
   ]
  },
  {
   "cell_type": "code",
   "execution_count": 2,
   "id": "37d68cfe",
   "metadata": {},
   "outputs": [],
   "source": [
    "#Load the train and test dataset in pandas Dataframe\n",
    "train = pd.read_csv(\"train.csv\")\n",
    "test = pd.read_csv(\"test.csv\")"
   ]
  },
  {
   "cell_type": "code",
   "execution_count": 3,
   "id": "445cbd88",
   "metadata": {},
   "outputs": [
    {
     "data": {
      "text/plain": [
       "(8523, 12)"
      ]
     },
     "execution_count": 3,
     "metadata": {},
     "output_type": "execute_result"
    }
   ],
   "source": [
    "#check number of rows and columns ion train dataset\n",
    "train.shape"
   ]
  },
  {
   "cell_type": "code",
   "execution_count": 4,
   "id": "ec5695e0",
   "metadata": {},
   "outputs": [
    {
     "data": {
      "text/plain": [
       "Index(['Item_Identifier', 'Item_Weight', 'Item_Fat_Content', 'Item_Visibility',\n",
       "       'Item_Type', 'Item_MRP', 'Outlet_Identifier',\n",
       "       'Outlet_Establishment_Year', 'Outlet_Size', 'Outlet_Location_Type',\n",
       "       'Outlet_Type', 'Item_Outlet_Sales'],\n",
       "      dtype='object')"
      ]
     },
     "execution_count": 4,
     "metadata": {},
     "output_type": "execute_result"
    }
   ],
   "source": [
    "#checking columns of train dataset\n",
    "train.columns"
   ]
  },
  {
   "cell_type": "code",
   "execution_count": 7,
   "id": "9a490f4d",
   "metadata": {},
   "outputs": [
    {
     "data": {
      "text/plain": [
       "(5681, 11)"
      ]
     },
     "execution_count": 7,
     "metadata": {},
     "output_type": "execute_result"
    }
   ],
   "source": [
    "#checking number of rows and columns in test dataset\n",
    "test.shape"
   ]
  },
  {
   "cell_type": "code",
   "execution_count": 8,
   "id": "00d34a8a",
   "metadata": {},
   "outputs": [
    {
     "data": {
      "text/plain": [
       "Index(['Item_Identifier', 'Item_Weight', 'Item_Fat_Content', 'Item_Visibility',\n",
       "       'Item_Type', 'Item_MRP', 'Outlet_Identifier',\n",
       "       'Outlet_Establishment_Year', 'Outlet_Size', 'Outlet_Location_Type',\n",
       "       'Outlet_Type'],\n",
       "      dtype='object')"
      ]
     },
     "execution_count": 8,
     "metadata": {},
     "output_type": "execute_result"
    }
   ],
   "source": [
    "#printing columns of test dataset\n",
    "test.columns"
   ]
  },
  {
   "cell_type": "code",
   "execution_count": 10,
   "id": "96be15fe",
   "metadata": {},
   "outputs": [
    {
     "name": "stdout",
     "output_type": "stream",
     "text": [
      "(14204, 13)\n"
     ]
    }
   ],
   "source": [
    "#combine the two datasets into one to perform EDA (Exploratory Data Analysis)\n",
    "train[\"source\"] = \"train\"\n",
    "test[\"source\"] = \"test\"\n",
    "data = pd.concat([train, test], ignore_index = True)\n",
    "print(data.shape)"
   ]
  },
  {
   "cell_type": "code",
   "execution_count": 11,
   "id": "1aa2dd54",
   "metadata": {},
   "outputs": [
    {
     "data": {
      "text/html": [
       "<div>\n",
       "<style scoped>\n",
       "    .dataframe tbody tr th:only-of-type {\n",
       "        vertical-align: middle;\n",
       "    }\n",
       "\n",
       "    .dataframe tbody tr th {\n",
       "        vertical-align: top;\n",
       "    }\n",
       "\n",
       "    .dataframe thead th {\n",
       "        text-align: right;\n",
       "    }\n",
       "</style>\n",
       "<table border=\"1\" class=\"dataframe\">\n",
       "  <thead>\n",
       "    <tr style=\"text-align: right;\">\n",
       "      <th></th>\n",
       "      <th>Item_Identifier</th>\n",
       "      <th>Item_Weight</th>\n",
       "      <th>Item_Fat_Content</th>\n",
       "      <th>Item_Visibility</th>\n",
       "      <th>Item_Type</th>\n",
       "      <th>Item_MRP</th>\n",
       "      <th>Outlet_Identifier</th>\n",
       "      <th>Outlet_Establishment_Year</th>\n",
       "      <th>Outlet_Size</th>\n",
       "      <th>Outlet_Location_Type</th>\n",
       "      <th>Outlet_Type</th>\n",
       "      <th>Item_Outlet_Sales</th>\n",
       "      <th>source</th>\n",
       "    </tr>\n",
       "  </thead>\n",
       "  <tbody>\n",
       "    <tr>\n",
       "      <th>0</th>\n",
       "      <td>FDA15</td>\n",
       "      <td>9.30</td>\n",
       "      <td>Low Fat</td>\n",
       "      <td>0.016047</td>\n",
       "      <td>Dairy</td>\n",
       "      <td>249.8092</td>\n",
       "      <td>OUT049</td>\n",
       "      <td>1999</td>\n",
       "      <td>Medium</td>\n",
       "      <td>Tier 1</td>\n",
       "      <td>Supermarket Type1</td>\n",
       "      <td>3735.1380</td>\n",
       "      <td>train</td>\n",
       "    </tr>\n",
       "    <tr>\n",
       "      <th>1</th>\n",
       "      <td>DRC01</td>\n",
       "      <td>5.92</td>\n",
       "      <td>Regular</td>\n",
       "      <td>0.019278</td>\n",
       "      <td>Soft Drinks</td>\n",
       "      <td>48.2692</td>\n",
       "      <td>OUT018</td>\n",
       "      <td>2009</td>\n",
       "      <td>Medium</td>\n",
       "      <td>Tier 3</td>\n",
       "      <td>Supermarket Type2</td>\n",
       "      <td>443.4228</td>\n",
       "      <td>train</td>\n",
       "    </tr>\n",
       "    <tr>\n",
       "      <th>2</th>\n",
       "      <td>FDN15</td>\n",
       "      <td>17.50</td>\n",
       "      <td>Low Fat</td>\n",
       "      <td>0.016760</td>\n",
       "      <td>Meat</td>\n",
       "      <td>141.6180</td>\n",
       "      <td>OUT049</td>\n",
       "      <td>1999</td>\n",
       "      <td>Medium</td>\n",
       "      <td>Tier 1</td>\n",
       "      <td>Supermarket Type1</td>\n",
       "      <td>2097.2700</td>\n",
       "      <td>train</td>\n",
       "    </tr>\n",
       "    <tr>\n",
       "      <th>3</th>\n",
       "      <td>FDX07</td>\n",
       "      <td>19.20</td>\n",
       "      <td>Regular</td>\n",
       "      <td>0.000000</td>\n",
       "      <td>Fruits and Vegetables</td>\n",
       "      <td>182.0950</td>\n",
       "      <td>OUT010</td>\n",
       "      <td>1998</td>\n",
       "      <td>NaN</td>\n",
       "      <td>Tier 3</td>\n",
       "      <td>Grocery Store</td>\n",
       "      <td>732.3800</td>\n",
       "      <td>train</td>\n",
       "    </tr>\n",
       "    <tr>\n",
       "      <th>4</th>\n",
       "      <td>NCD19</td>\n",
       "      <td>8.93</td>\n",
       "      <td>Low Fat</td>\n",
       "      <td>0.000000</td>\n",
       "      <td>Household</td>\n",
       "      <td>53.8614</td>\n",
       "      <td>OUT013</td>\n",
       "      <td>1987</td>\n",
       "      <td>High</td>\n",
       "      <td>Tier 3</td>\n",
       "      <td>Supermarket Type1</td>\n",
       "      <td>994.7052</td>\n",
       "      <td>train</td>\n",
       "    </tr>\n",
       "  </tbody>\n",
       "</table>\n",
       "</div>"
      ],
      "text/plain": [
       "  Item_Identifier  Item_Weight Item_Fat_Content  Item_Visibility  \\\n",
       "0           FDA15         9.30          Low Fat         0.016047   \n",
       "1           DRC01         5.92          Regular         0.019278   \n",
       "2           FDN15        17.50          Low Fat         0.016760   \n",
       "3           FDX07        19.20          Regular         0.000000   \n",
       "4           NCD19         8.93          Low Fat         0.000000   \n",
       "\n",
       "               Item_Type  Item_MRP Outlet_Identifier  \\\n",
       "0                  Dairy  249.8092            OUT049   \n",
       "1            Soft Drinks   48.2692            OUT018   \n",
       "2                   Meat  141.6180            OUT049   \n",
       "3  Fruits and Vegetables  182.0950            OUT010   \n",
       "4              Household   53.8614            OUT013   \n",
       "\n",
       "   Outlet_Establishment_Year Outlet_Size Outlet_Location_Type  \\\n",
       "0                       1999      Medium               Tier 1   \n",
       "1                       2009      Medium               Tier 3   \n",
       "2                       1999      Medium               Tier 1   \n",
       "3                       1998         NaN               Tier 3   \n",
       "4                       1987        High               Tier 3   \n",
       "\n",
       "         Outlet_Type  Item_Outlet_Sales source  \n",
       "0  Supermarket Type1          3735.1380  train  \n",
       "1  Supermarket Type2           443.4228  train  \n",
       "2  Supermarket Type1          2097.2700  train  \n",
       "3      Grocery Store           732.3800  train  \n",
       "4  Supermarket Type1           994.7052  train  "
      ]
     },
     "execution_count": 11,
     "metadata": {},
     "output_type": "execute_result"
    }
   ],
   "source": [
    "data.head()"
   ]
  },
  {
   "cell_type": "code",
   "execution_count": 13,
   "id": "dfe88fb4",
   "metadata": {},
   "outputs": [
    {
     "data": {
      "text/html": [
       "<div>\n",
       "<style scoped>\n",
       "    .dataframe tbody tr th:only-of-type {\n",
       "        vertical-align: middle;\n",
       "    }\n",
       "\n",
       "    .dataframe tbody tr th {\n",
       "        vertical-align: top;\n",
       "    }\n",
       "\n",
       "    .dataframe thead th {\n",
       "        text-align: right;\n",
       "    }\n",
       "</style>\n",
       "<table border=\"1\" class=\"dataframe\">\n",
       "  <thead>\n",
       "    <tr style=\"text-align: right;\">\n",
       "      <th></th>\n",
       "      <th>Item_Weight</th>\n",
       "      <th>Item_Visibility</th>\n",
       "      <th>Item_MRP</th>\n",
       "      <th>Outlet_Establishment_Year</th>\n",
       "      <th>Item_Outlet_Sales</th>\n",
       "    </tr>\n",
       "  </thead>\n",
       "  <tbody>\n",
       "    <tr>\n",
       "      <th>count</th>\n",
       "      <td>11765.000000</td>\n",
       "      <td>14204.000000</td>\n",
       "      <td>14204.000000</td>\n",
       "      <td>14204.000000</td>\n",
       "      <td>8523.000000</td>\n",
       "    </tr>\n",
       "    <tr>\n",
       "      <th>mean</th>\n",
       "      <td>12.792854</td>\n",
       "      <td>0.065953</td>\n",
       "      <td>141.004977</td>\n",
       "      <td>1997.830681</td>\n",
       "      <td>2181.288914</td>\n",
       "    </tr>\n",
       "    <tr>\n",
       "      <th>std</th>\n",
       "      <td>4.652502</td>\n",
       "      <td>0.051459</td>\n",
       "      <td>62.086938</td>\n",
       "      <td>8.371664</td>\n",
       "      <td>1706.499616</td>\n",
       "    </tr>\n",
       "    <tr>\n",
       "      <th>min</th>\n",
       "      <td>4.555000</td>\n",
       "      <td>0.000000</td>\n",
       "      <td>31.290000</td>\n",
       "      <td>1985.000000</td>\n",
       "      <td>33.290000</td>\n",
       "    </tr>\n",
       "    <tr>\n",
       "      <th>25%</th>\n",
       "      <td>8.710000</td>\n",
       "      <td>0.027036</td>\n",
       "      <td>94.012000</td>\n",
       "      <td>1987.000000</td>\n",
       "      <td>834.247400</td>\n",
       "    </tr>\n",
       "    <tr>\n",
       "      <th>50%</th>\n",
       "      <td>12.600000</td>\n",
       "      <td>0.054021</td>\n",
       "      <td>142.247000</td>\n",
       "      <td>1999.000000</td>\n",
       "      <td>1794.331000</td>\n",
       "    </tr>\n",
       "    <tr>\n",
       "      <th>75%</th>\n",
       "      <td>16.750000</td>\n",
       "      <td>0.094037</td>\n",
       "      <td>185.855600</td>\n",
       "      <td>2004.000000</td>\n",
       "      <td>3101.296400</td>\n",
       "    </tr>\n",
       "    <tr>\n",
       "      <th>max</th>\n",
       "      <td>21.350000</td>\n",
       "      <td>0.328391</td>\n",
       "      <td>266.888400</td>\n",
       "      <td>2009.000000</td>\n",
       "      <td>13086.964800</td>\n",
       "    </tr>\n",
       "  </tbody>\n",
       "</table>\n",
       "</div>"
      ],
      "text/plain": [
       "        Item_Weight  Item_Visibility      Item_MRP  Outlet_Establishment_Year  \\\n",
       "count  11765.000000     14204.000000  14204.000000               14204.000000   \n",
       "mean      12.792854         0.065953    141.004977                1997.830681   \n",
       "std        4.652502         0.051459     62.086938                   8.371664   \n",
       "min        4.555000         0.000000     31.290000                1985.000000   \n",
       "25%        8.710000         0.027036     94.012000                1987.000000   \n",
       "50%       12.600000         0.054021    142.247000                1999.000000   \n",
       "75%       16.750000         0.094037    185.855600                2004.000000   \n",
       "max       21.350000         0.328391    266.888400                2009.000000   \n",
       "\n",
       "       Item_Outlet_Sales  \n",
       "count        8523.000000  \n",
       "mean         2181.288914  \n",
       "std          1706.499616  \n",
       "min            33.290000  \n",
       "25%           834.247400  \n",
       "50%          1794.331000  \n",
       "75%          3101.296400  \n",
       "max         13086.964800  "
      ]
     },
     "execution_count": 13,
     "metadata": {},
     "output_type": "execute_result"
    }
   ],
   "source": [
    "#numerical data summary\n",
    "data.describe()"
   ]
  },
  {
   "cell_type": "code",
   "execution_count": 14,
   "id": "b7706a97",
   "metadata": {},
   "outputs": [
    {
     "data": {
      "text/plain": [
       "Item_Identifier                 0\n",
       "Item_Weight                  2439\n",
       "Item_Fat_Content                0\n",
       "Item_Visibility                 0\n",
       "Item_Type                       0\n",
       "Item_MRP                        0\n",
       "Outlet_Identifier               0\n",
       "Outlet_Establishment_Year       0\n",
       "Outlet_Size                  4016\n",
       "Outlet_Location_Type            0\n",
       "Outlet_Type                     0\n",
       "Item_Outlet_Sales            5681\n",
       "source                          0\n",
       "dtype: int64"
      ]
     },
     "execution_count": 14,
     "metadata": {},
     "output_type": "execute_result"
    }
   ],
   "source": [
    "#check for missing values within dataset\n",
    "data.isnull().sum()"
   ]
  },
  {
   "cell_type": "code",
   "execution_count": 15,
   "id": "0b2e8f74",
   "metadata": {},
   "outputs": [
    {
     "data": {
      "text/plain": [
       "array(['Low Fat', 'Regular', 'low fat', 'LF', 'reg'], dtype=object)"
      ]
     },
     "execution_count": 15,
     "metadata": {},
     "output_type": "execute_result"
    }
   ],
   "source": [
    "#The output shows the number of missing values in accordance to the label\n",
    "#We can now predict these missing values using a model\n",
    "\n",
    "\n",
    "#printing unique valuies in Item_Fat_Content column\n",
    "data[\"Item_Fat_Content\"].unique()"
   ]
  },
  {
   "cell_type": "code",
   "execution_count": 16,
   "id": "9dcb12e7",
   "metadata": {},
   "outputs": [
    {
     "data": {
      "text/plain": [
       "array([1999, 2009, 1998, 1987, 1985, 2002, 2007, 1997, 2004], dtype=int64)"
      ]
     },
     "execution_count": 16,
     "metadata": {},
     "output_type": "execute_result"
    }
   ],
   "source": [
    "#printing unique values in the Outlet_Establishment_Year column\n",
    "data[\"Outlet_Establishment_Year\"].unique()"
   ]
  },
  {
   "cell_type": "code",
   "execution_count": 23,
   "id": "bbf222e8",
   "metadata": {},
   "outputs": [
    {
     "data": {
      "text/html": [
       "<div>\n",
       "<style scoped>\n",
       "    .dataframe tbody tr th:only-of-type {\n",
       "        vertical-align: middle;\n",
       "    }\n",
       "\n",
       "    .dataframe tbody tr th {\n",
       "        vertical-align: top;\n",
       "    }\n",
       "\n",
       "    .dataframe thead th {\n",
       "        text-align: right;\n",
       "    }\n",
       "</style>\n",
       "<table border=\"1\" class=\"dataframe\">\n",
       "  <thead>\n",
       "    <tr style=\"text-align: right;\">\n",
       "      <th></th>\n",
       "      <th>Item_Identifier</th>\n",
       "      <th>Item_Weight</th>\n",
       "      <th>Item_Fat_Content</th>\n",
       "      <th>Item_Visibility</th>\n",
       "      <th>Item_Type</th>\n",
       "      <th>Item_MRP</th>\n",
       "      <th>Outlet_Identifier</th>\n",
       "      <th>Outlet_Establishment_Year</th>\n",
       "      <th>Outlet_Size</th>\n",
       "      <th>Outlet_Location_Type</th>\n",
       "      <th>Outlet_Type</th>\n",
       "      <th>Item_Outlet_Sales</th>\n",
       "      <th>source</th>\n",
       "      <th>Outlet_Age</th>\n",
       "    </tr>\n",
       "  </thead>\n",
       "  <tbody>\n",
       "    <tr>\n",
       "      <th>0</th>\n",
       "      <td>FDA15</td>\n",
       "      <td>9.30</td>\n",
       "      <td>Low Fat</td>\n",
       "      <td>0.016047</td>\n",
       "      <td>Dairy</td>\n",
       "      <td>249.8092</td>\n",
       "      <td>OUT049</td>\n",
       "      <td>1999</td>\n",
       "      <td>Medium</td>\n",
       "      <td>Tier 1</td>\n",
       "      <td>Supermarket Type1</td>\n",
       "      <td>3735.1380</td>\n",
       "      <td>train</td>\n",
       "      <td>19</td>\n",
       "    </tr>\n",
       "    <tr>\n",
       "      <th>1</th>\n",
       "      <td>DRC01</td>\n",
       "      <td>5.92</td>\n",
       "      <td>Regular</td>\n",
       "      <td>0.019278</td>\n",
       "      <td>Soft Drinks</td>\n",
       "      <td>48.2692</td>\n",
       "      <td>OUT018</td>\n",
       "      <td>2009</td>\n",
       "      <td>Medium</td>\n",
       "      <td>Tier 3</td>\n",
       "      <td>Supermarket Type2</td>\n",
       "      <td>443.4228</td>\n",
       "      <td>train</td>\n",
       "      <td>9</td>\n",
       "    </tr>\n",
       "  </tbody>\n",
       "</table>\n",
       "</div>"
      ],
      "text/plain": [
       "  Item_Identifier  Item_Weight Item_Fat_Content  Item_Visibility    Item_Type  \\\n",
       "0           FDA15         9.30          Low Fat         0.016047        Dairy   \n",
       "1           DRC01         5.92          Regular         0.019278  Soft Drinks   \n",
       "\n",
       "   Item_MRP Outlet_Identifier  Outlet_Establishment_Year Outlet_Size  \\\n",
       "0  249.8092            OUT049                       1999      Medium   \n",
       "1   48.2692            OUT018                       2009      Medium   \n",
       "\n",
       "  Outlet_Location_Type        Outlet_Type  Item_Outlet_Sales source  \\\n",
       "0               Tier 1  Supermarket Type1          3735.1380  train   \n",
       "1               Tier 3  Supermarket Type2           443.4228  train   \n",
       "\n",
       "   Outlet_Age  \n",
       "0          19  \n",
       "1           9  "
      ]
     },
     "execution_count": 23,
     "metadata": {},
     "output_type": "execute_result"
    }
   ],
   "source": [
    "#calculating outlet age\n",
    "data[\"Outlet_Age\"] = 2018 - data[\"Outlet_Establishment_Year\"]\n",
    "\n",
    "data.head(2)"
   ]
  },
  {
   "cell_type": "code",
   "execution_count": 24,
   "id": "c9c8a18a",
   "metadata": {},
   "outputs": [
    {
     "data": {
      "text/plain": [
       "array(['Medium', nan, 'High', 'Small'], dtype=object)"
      ]
     },
     "execution_count": 24,
     "metadata": {},
     "output_type": "execute_result"
    }
   ],
   "source": [
    "#unique values in outletsize\n",
    "data[\"Outlet_Size\"].unique()"
   ]
  },
  {
   "cell_type": "code",
   "execution_count": 25,
   "id": "adff5073",
   "metadata": {},
   "outputs": [
    {
     "data": {
      "text/plain": [
       "Item_Fat_Content\n",
       "Low Fat    8485\n",
       "Regular    4824\n",
       "LF          522\n",
       "reg         195\n",
       "low fat     178\n",
       "Name: count, dtype: int64"
      ]
     },
     "execution_count": 25,
     "metadata": {},
     "output_type": "execute_result"
    }
   ],
   "source": [
    "#the output above has a missing value, we will now explore further\n",
    "\n",
    "#printing the count value of item fat content\n",
    "data[\"Item_Fat_Content\"].value_counts()"
   ]
  },
  {
   "cell_type": "code",
   "execution_count": 26,
   "id": "8d1f8a7d",
   "metadata": {},
   "outputs": [
    {
     "data": {
      "text/plain": [
       "Outlet_Size\n",
       "Medium    4655\n",
       "Small     3980\n",
       "High      1553\n",
       "Name: count, dtype: int64"
      ]
     },
     "execution_count": 26,
     "metadata": {},
     "output_type": "execute_result"
    }
   ],
   "source": [
    "#print count value of outlet size\n",
    "data[\"Outlet_Size\"].value_counts()"
   ]
  },
  {
   "cell_type": "code",
   "execution_count": 27,
   "id": "12898fa1",
   "metadata": {},
   "outputs": [
    {
     "data": {
      "text/plain": [
       "'Medium'"
      ]
     },
     "execution_count": 27,
     "metadata": {},
     "output_type": "execute_result"
    }
   ],
   "source": [
    "#use mode function to find most common occuring value in outlet size\n",
    "data[\"Outlet_Size\"].mode()[0]"
   ]
  },
  {
   "cell_type": "code",
   "execution_count": 28,
   "id": "2cfef925",
   "metadata": {},
   "outputs": [],
   "source": [
    "#replace missing value in outlet size with teh value \"medium\"\n",
    "data[\"Outlet_Size\"] = data[\"Outlet_Size\"].fillna(data[\"Outlet_Size\"].mode()[0])"
   ]
  },
  {
   "cell_type": "code",
   "execution_count": 30,
   "id": "8dd581c9",
   "metadata": {},
   "outputs": [],
   "source": [
    "#ereplace missing values in item weight with the mean weight\n",
    "data[\"Item_Weight\"] = data[\"Item_Weight\"].fillna(data[\"Item_Weight\"].mean())"
   ]
  },
  {
   "cell_type": "code",
   "execution_count": 31,
   "id": "1e17e9b7",
   "metadata": {},
   "outputs": [
    {
     "data": {
      "text/plain": [
       "<Axes: >"
      ]
     },
     "execution_count": 31,
     "metadata": {},
     "output_type": "execute_result"
    },
    {
     "data": {
      "image/png": "[encoded data removed]",
      "text/plain": [
       "<Figure size 640x480 with 1 Axes>"
      ]
     },
     "metadata": {},
     "output_type": "display_data"
    }
   ],
   "source": [
    "#plot histogram to reveal the distribution of item visibility column\n",
    "data[\"Item_Visibility\"].hist(bins=20)"
   ]
  },
  {
   "cell_type": "code",
   "execution_count": 32,
   "id": "d35bd945",
   "metadata": {},
   "outputs": [],
   "source": [
    "#detecting outliers (points which lie outside the overall pattern in a distribution)\n",
    "#detecting first quantile for item visibility\n",
    "\n",
    "Q1 = data[\"Item_Visibility\"].quantile(0.25)"
   ]
  },
  {
   "cell_type": "code",
   "execution_count": 33,
   "id": "d8281059",
   "metadata": {},
   "outputs": [],
   "source": [
    "#calculating third quantile\n",
    "Q3 = data[\"Item_Visibility\"].quantile(0.75)"
   ]
  },
  {
   "cell_type": "code",
   "execution_count": 34,
   "id": "c4a265ed",
   "metadata": {},
   "outputs": [],
   "source": [
    "#calculating interquartile range\n",
    "IQR = Q3-Q1"
   ]
  },
  {
   "cell_type": "code",
   "execution_count": 36,
   "id": "beb160e5",
   "metadata": {},
   "outputs": [],
   "source": [
    "#remove anyu outliers from data from the IQR range\n",
    "fill_data = data.query('(@Q1 - 1.5 * @IQR) <= Item_Visibility <= (@Q3 + 1.5 * @IQR)')"
   ]
  },
  {
   "cell_type": "code",
   "execution_count": 37,
   "id": "ae7e85bc",
   "metadata": {},
   "outputs": [
    {
     "data": {
      "text/html": [
       "<div>\n",
       "<style scoped>\n",
       "    .dataframe tbody tr th:only-of-type {\n",
       "        vertical-align: middle;\n",
       "    }\n",
       "\n",
       "    .dataframe tbody tr th {\n",
       "        vertical-align: top;\n",
       "    }\n",
       "\n",
       "    .dataframe thead th {\n",
       "        text-align: right;\n",
       "    }\n",
       "</style>\n",
       "<table border=\"1\" class=\"dataframe\">\n",
       "  <thead>\n",
       "    <tr style=\"text-align: right;\">\n",
       "      <th></th>\n",
       "      <th>Item_Identifier</th>\n",
       "      <th>Item_Weight</th>\n",
       "      <th>Item_Fat_Content</th>\n",
       "      <th>Item_Visibility</th>\n",
       "      <th>Item_Type</th>\n",
       "      <th>Item_MRP</th>\n",
       "      <th>Outlet_Identifier</th>\n",
       "      <th>Outlet_Establishment_Year</th>\n",
       "      <th>Outlet_Size</th>\n",
       "      <th>Outlet_Location_Type</th>\n",
       "      <th>Outlet_Type</th>\n",
       "      <th>Item_Outlet_Sales</th>\n",
       "      <th>source</th>\n",
       "      <th>Outlet_Age</th>\n",
       "    </tr>\n",
       "  </thead>\n",
       "  <tbody>\n",
       "    <tr>\n",
       "      <th>0</th>\n",
       "      <td>FDA15</td>\n",
       "      <td>9.30</td>\n",
       "      <td>Low Fat</td>\n",
       "      <td>0.016047</td>\n",
       "      <td>Dairy</td>\n",
       "      <td>249.8092</td>\n",
       "      <td>OUT049</td>\n",
       "      <td>1999</td>\n",
       "      <td>Medium</td>\n",
       "      <td>Tier 1</td>\n",
       "      <td>Supermarket Type1</td>\n",
       "      <td>3735.1380</td>\n",
       "      <td>train</td>\n",
       "      <td>19</td>\n",
       "    </tr>\n",
       "    <tr>\n",
       "      <th>1</th>\n",
       "      <td>DRC01</td>\n",
       "      <td>5.92</td>\n",
       "      <td>Regular</td>\n",
       "      <td>0.019278</td>\n",
       "      <td>Soft Drinks</td>\n",
       "      <td>48.2692</td>\n",
       "      <td>OUT018</td>\n",
       "      <td>2009</td>\n",
       "      <td>Medium</td>\n",
       "      <td>Tier 3</td>\n",
       "      <td>Supermarket Type2</td>\n",
       "      <td>443.4228</td>\n",
       "      <td>train</td>\n",
       "      <td>9</td>\n",
       "    </tr>\n",
       "  </tbody>\n",
       "</table>\n",
       "</div>"
      ],
      "text/plain": [
       "  Item_Identifier  Item_Weight Item_Fat_Content  Item_Visibility    Item_Type  \\\n",
       "0           FDA15         9.30          Low Fat         0.016047        Dairy   \n",
       "1           DRC01         5.92          Regular         0.019278  Soft Drinks   \n",
       "\n",
       "   Item_MRP Outlet_Identifier  Outlet_Establishment_Year Outlet_Size  \\\n",
       "0  249.8092            OUT049                       1999      Medium   \n",
       "1   48.2692            OUT018                       2009      Medium   \n",
       "\n",
       "  Outlet_Location_Type        Outlet_Type  Item_Outlet_Sales source  \\\n",
       "0               Tier 1  Supermarket Type1          3735.1380  train   \n",
       "1               Tier 3  Supermarket Type2           443.4228  train   \n",
       "\n",
       "   Outlet_Age  \n",
       "0          19  \n",
       "1           9  "
      ]
     },
     "execution_count": 37,
     "metadata": {},
     "output_type": "execute_result"
    }
   ],
   "source": [
    "#display the data\n",
    "fill_data.head(2)"
   ]
  },
  {
   "cell_type": "code",
   "execution_count": 38,
   "id": "41c9219e",
   "metadata": {},
   "outputs": [
    {
     "data": {
      "text/plain": [
       "(13943, 14)"
      ]
     },
     "execution_count": 38,
     "metadata": {},
     "output_type": "execute_result"
    }
   ],
   "source": [
    "#shape of dataset without outliers\n",
    "fill_data.shape"
   ]
  },
  {
   "cell_type": "code",
   "execution_count": 39,
   "id": "f4242519",
   "metadata": {},
   "outputs": [
    {
     "data": {
      "text/plain": [
       "(14204, 14)"
      ]
     },
     "execution_count": 39,
     "metadata": {},
     "output_type": "execute_result"
    }
   ],
   "source": [
    "data.shape"
   ]
  },
  {
   "cell_type": "code",
   "execution_count": 40,
   "id": "077e3023",
   "metadata": {},
   "outputs": [],
   "source": [
    "#assign new fill data dataset to data DATAFRAME\n",
    "data = fill_data"
   ]
  },
  {
   "cell_type": "code",
   "execution_count": 41,
   "id": "8280bb86",
   "metadata": {},
   "outputs": [
    {
     "data": {
      "text/plain": [
       "(13943, 14)"
      ]
     },
     "execution_count": 41,
     "metadata": {},
     "output_type": "execute_result"
    }
   ],
   "source": [
    "data.shape"
   ]
  },
  {
   "cell_type": "code",
   "execution_count": 43,
   "id": "55c2eded",
   "metadata": {},
   "outputs": [],
   "source": [
    "#modify item visibility to numerical values into categories\n",
    "data[\"Item_Visibility_bins\"] = pd.cut(data[\"Item_Visibility\"], [0.000,0.065,0.13,0.2], labels = ['Low Viz', 'Viz', 'High Viz'])"
   ]
  },
  {
   "cell_type": "code",
   "execution_count": 44,
   "id": "3e0b14fc",
   "metadata": {},
   "outputs": [
    {
     "data": {
      "text/plain": [
       "Item_Visibility_bins\n",
       "Low Viz     7363\n",
       "Viz         4283\n",
       "High Viz    1418\n",
       "Name: count, dtype: int64"
      ]
     },
     "execution_count": 44,
     "metadata": {},
     "output_type": "execute_result"
    }
   ],
   "source": [
    "#print count of item visibility bins\n",
    "data[\"Item_Visibility_bins\"].value_counts()"
   ]
  },
  {
   "cell_type": "code",
   "execution_count": 45,
   "id": "0d4088c0",
   "metadata": {},
   "outputs": [],
   "source": [
    "#replace null values with low viz\n",
    "data[\"Item_Visibility_bins\"] = data[\"Item_Visibility_bins\"].replace(np.nan, \"Low Viz\", regex = True)"
   ]
  },
  {
   "cell_type": "code",
   "execution_count": 47,
   "id": "1f65be73",
   "metadata": {},
   "outputs": [],
   "source": [
    "#replacing typos with corrected wording\n",
    "\n",
    "data[\"Item_Fat_Content\"] = data[\"Item_Fat_Content\"].replace([\"low fat\", \"LF\"], \"Low Fat\")"
   ]
  },
  {
   "cell_type": "code",
   "execution_count": 48,
   "id": "1a3517b9",
   "metadata": {},
   "outputs": [],
   "source": [
    "#replace \"reg\" to Regular\n",
    "data[\"Item_Fat_Content\"] = data[\"Item_Fat_Content\"].replace(\"reg\", \"Regular\")"
   ]
  },
  {
   "cell_type": "code",
   "execution_count": 50,
   "id": "d294c0e4",
   "metadata": {},
   "outputs": [
    {
     "data": {
      "text/plain": [
       "array(['Low Fat', 'Regular'], dtype=object)"
      ]
     },
     "execution_count": 50,
     "metadata": {},
     "output_type": "execute_result"
    }
   ],
   "source": [
    "#printing unique fat count\n",
    "data[\"Item_Fat_Content\"].unique()"
   ]
  },
  {
   "cell_type": "code",
   "execution_count": 51,
   "id": "085c098a",
   "metadata": {},
   "outputs": [],
   "source": [
    "#coding all categorical variables to numerical using 'LabelEncoder'\n",
    "#init LabelEncoder\n",
    "le = LabelEncoder()"
   ]
  },
  {
   "cell_type": "code",
   "execution_count": 52,
   "id": "39b94d88",
   "metadata": {},
   "outputs": [],
   "source": [
    "#transform item fat content into numerical values\n",
    "data[\"Item_Fat_Content\"] = le.fit_transform(data[\"Item_Fat_Content\"])"
   ]
  },
  {
   "cell_type": "code",
   "execution_count": 53,
   "id": "f30c1530",
   "metadata": {},
   "outputs": [],
   "source": [
    "#transform item visibility bins\n",
    "data[\"Item_Visibility_bins\"] = le.fit_transform(data[\"Item_Visibility_bins\"])"
   ]
  },
  {
   "cell_type": "code",
   "execution_count": 54,
   "id": "fde65be4",
   "metadata": {},
   "outputs": [],
   "source": [
    "#transform outlet size\n",
    "data[\"Outlet_Size\"] = le.fit_transform(data[\"Outlet_Size\"])"
   ]
  },
  {
   "cell_type": "code",
   "execution_count": 57,
   "id": "73829260",
   "metadata": {},
   "outputs": [],
   "source": [
    "#transform outlet location type\n",
    "data[\"Outlet_Location_Type\"] = le.fit_transform(data[\"Outlet_Location_Type\"])"
   ]
  },
  {
   "cell_type": "code",
   "execution_count": 58,
   "id": "57dab688",
   "metadata": {},
   "outputs": [
    {
     "data": {
      "text/plain": [
       "array(['Supermarket Type1', 'Supermarket Type2', 'Grocery Store',\n",
       "       'Supermarket Type3'], dtype=object)"
      ]
     },
     "execution_count": 58,
     "metadata": {},
     "output_type": "execute_result"
    }
   ],
   "source": [
    "#print unique values of outlet type\n",
    "data[\"Outlet_Type\"].unique()"
   ]
  },
  {
   "cell_type": "code",
   "execution_count": 61,
   "id": "7fbf73bb",
   "metadata": {},
   "outputs": [
    {
     "data": {
      "text/html": [
       "<div>\n",
       "<style scoped>\n",
       "    .dataframe tbody tr th:only-of-type {\n",
       "        vertical-align: middle;\n",
       "    }\n",
       "\n",
       "    .dataframe tbody tr th {\n",
       "        vertical-align: top;\n",
       "    }\n",
       "\n",
       "    .dataframe thead th {\n",
       "        text-align: right;\n",
       "    }\n",
       "</style>\n",
       "<table border=\"1\" class=\"dataframe\">\n",
       "  <thead>\n",
       "    <tr style=\"text-align: right;\">\n",
       "      <th></th>\n",
       "      <th>Grocery Store</th>\n",
       "      <th>Supermarket Type1</th>\n",
       "      <th>Supermarket Type2</th>\n",
       "      <th>Supermarket Type3</th>\n",
       "    </tr>\n",
       "  </thead>\n",
       "  <tbody>\n",
       "    <tr>\n",
       "      <th>0</th>\n",
       "      <td>0</td>\n",
       "      <td>1</td>\n",
       "      <td>0</td>\n",
       "      <td>0</td>\n",
       "    </tr>\n",
       "    <tr>\n",
       "      <th>1</th>\n",
       "      <td>0</td>\n",
       "      <td>0</td>\n",
       "      <td>1</td>\n",
       "      <td>0</td>\n",
       "    </tr>\n",
       "    <tr>\n",
       "      <th>2</th>\n",
       "      <td>0</td>\n",
       "      <td>1</td>\n",
       "      <td>0</td>\n",
       "      <td>0</td>\n",
       "    </tr>\n",
       "    <tr>\n",
       "      <th>3</th>\n",
       "      <td>1</td>\n",
       "      <td>0</td>\n",
       "      <td>0</td>\n",
       "      <td>0</td>\n",
       "    </tr>\n",
       "    <tr>\n",
       "      <th>4</th>\n",
       "      <td>0</td>\n",
       "      <td>1</td>\n",
       "      <td>0</td>\n",
       "      <td>0</td>\n",
       "    </tr>\n",
       "  </tbody>\n",
       "</table>\n",
       "</div>"
      ],
      "text/plain": [
       "   Grocery Store  Supermarket Type1  Supermarket Type2  Supermarket Type3\n",
       "0              0                  1                  0                  0\n",
       "1              0                  0                  1                  0\n",
       "2              0                  1                  0                  0\n",
       "3              1                  0                  0                  0\n",
       "4              0                  1                  0                  0"
      ]
     },
     "execution_count": 61,
     "metadata": {},
     "output_type": "execute_result"
    }
   ],
   "source": [
    "#creat dummies for outlet type\n",
    "dummy = pd.get_dummies(data[\"Outlet_Type\"])\n",
    "\n",
    "#converts boolean values into integers\n",
    "dummy = dummy.astype(int)\n",
    "dummy.head()"
   ]
  },
  {
   "cell_type": "code",
   "execution_count": 62,
   "id": "d65f629d",
   "metadata": {},
   "outputs": [
    {
     "data": {
      "text/plain": [
       "0        FDA15\n",
       "1        DRC01\n",
       "2        FDN15\n",
       "3        FDX07\n",
       "4        NCD19\n",
       "         ...  \n",
       "14199    FDB58\n",
       "14200    FDD47\n",
       "14201    NCO17\n",
       "14202    FDJ26\n",
       "14203    FDU37\n",
       "Name: Item_Identifier, Length: 13943, dtype: object"
      ]
     },
     "execution_count": 62,
     "metadata": {},
     "output_type": "execute_result"
    }
   ],
   "source": [
    "#explore the column Item Identifier\n",
    "data[\"Item_Identifier\"]"
   ]
  },
  {
   "cell_type": "code",
   "execution_count": 63,
   "id": "9be75222",
   "metadata": {},
   "outputs": [
    {
     "data": {
      "text/plain": [
       "Item_Identifier\n",
       "FDE33    10\n",
       "FDM12    10\n",
       "FDY47    10\n",
       "FDT03    10\n",
       "FDO01    10\n",
       "         ..\n",
       "FDA10     7\n",
       "FDO33     7\n",
       "FDZ60     7\n",
       "NCW54     7\n",
       "FDG21     7\n",
       "Name: count, Length: 1559, dtype: int64"
      ]
     },
     "execution_count": 63,
     "metadata": {},
     "output_type": "execute_result"
    }
   ],
   "source": [
    "#Output shows that there are multiple calues of Food, nonconsumable items, and drink with seperate numbers\n",
    "#we will not combine the item type\n",
    "data[\"Item_Identifier\"].value_counts()"
   ]
  },
  {
   "cell_type": "code",
   "execution_count": 68,
   "id": "2307019b",
   "metadata": {},
   "outputs": [],
   "source": [
    "#reduce multiple categories present by mapping\n",
    "data[\"Item_Type_Combined\"] = data[\"Item_Identifier\"].apply(lambda x: x[0:2])\n",
    "data[\"Item_Type_Combined\"] = data[\"Item_Type_Combined\"].map({'FD': 'Food',\n",
    "                                                             'NC': 'Non-Consumable',\n",
    "                                                             'DR': 'Drinks'})"
   ]
  },
  {
   "cell_type": "code",
   "execution_count": 70,
   "id": "ed48be12",
   "metadata": {},
   "outputs": [
    {
     "data": {
      "text/plain": [
       "Item_Type_Combined\n",
       "Food              9991\n",
       "Non-Consumable    2652\n",
       "Drinks            1300\n",
       "Name: count, dtype: int64"
      ]
     },
     "execution_count": 70,
     "metadata": {},
     "output_type": "execute_result"
    }
   ],
   "source": [
    "#show value of categories present\n",
    "data[\"Item_Type_Combined\"].value_counts()"
   ]
  },
  {
   "cell_type": "code",
   "execution_count": 71,
   "id": "7c0afbb3",
   "metadata": {},
   "outputs": [],
   "source": [
    "#perform one-hot encoding for all columns \n",
    "data = pd.get_dummies(data, columns = [\"Item_Fat_Content\", \"Outlet_Location_Type\", \"Outlet_Size\", \"Outlet_Type\", \"Item_Type_Combined\"])"
   ]
  },
  {
   "cell_type": "code",
   "execution_count": 73,
   "id": "c4c7f5dc",
   "metadata": {},
   "outputs": [
    {
     "data": {
      "text/plain": [
       "Item_Identifier                       object\n",
       "Item_Weight                          float64\n",
       "Item_Visibility                      float64\n",
       "Item_Type                             object\n",
       "Item_MRP                             float64\n",
       "Outlet_Identifier                     object\n",
       "Outlet_Establishment_Year              int64\n",
       "Item_Outlet_Sales                    float64\n",
       "source                                object\n",
       "Outlet_Age                             int64\n",
       "Item_Visibility_bins                   int32\n",
       "Item_Fat_Content_0                      bool\n",
       "Item_Fat_Content_1                      bool\n",
       "Outlet_Location_Type_0                  bool\n",
       "Outlet_Location_Type_1                  bool\n",
       "Outlet_Location_Type_2                  bool\n",
       "Outlet_Size_0                           bool\n",
       "Outlet_Size_1                           bool\n",
       "Outlet_Size_2                           bool\n",
       "Outlet_Type_Grocery Store               bool\n",
       "Outlet_Type_Supermarket Type1           bool\n",
       "Outlet_Type_Supermarket Type2           bool\n",
       "Outlet_Type_Supermarket Type3           bool\n",
       "Item_Type_Combined_Drinks               bool\n",
       "Item_Type_Combined_Food                 bool\n",
       "Item_Type_Combined_Non-Consumable       bool\n",
       "dtype: object"
      ]
     },
     "execution_count": 73,
     "metadata": {},
     "output_type": "execute_result"
    }
   ],
   "source": [
    "#Output shows that the some columns are categorical which are mentioned as objects\n",
    "data.dtypes"
   ]
  },
  {
   "cell_type": "code",
   "execution_count": 77,
   "id": "dad23edd",
   "metadata": {},
   "outputs": [],
   "source": [
    "import warnings\n",
    "warnings.filterwarnings('ignore')\n",
    "\n",
    "#drop columns which have been covnerrted to different types\n",
    "data.drop([\"Item_Type\", \"Outlet_Establishment_Year\"], axis = 1, inplace = True)\n",
    "\n",
    "#divide the dataset which was created earlier into the train and test datasets\n",
    "train = data.loc[data[\"source\"] == \"train\"]\n",
    "test = data.loc[data[\"source\"] == \"test\"]\n",
    "\n",
    "#drop unnecessary columns\n",
    "test.drop([\"Item_Outlet_Sales\", \"source\"], axis = 1, inplace = True)\n",
    "train.drop([\"source\"], axis = 1, inplace = True)\n",
    "\n",
    "#export modified version of the files\n",
    "train.to_csv(\"train_modified.csv\", index = False)\n",
    "test.to_csv(\"test_modified.csv\", index = False)\n"
   ]
  },
  {
   "cell_type": "code",
   "execution_count": 81,
   "id": "ccaef3b5",
   "metadata": {},
   "outputs": [],
   "source": [
    "#read the new modified datasets \n",
    "train2 = pd.read_csv(\"train_modified.csv\")\n",
    "test2 = pd.read_csv(\"test_modified.csv\")\n"
   ]
  },
  {
   "cell_type": "code",
   "execution_count": 91,
   "id": "5b3f01bd",
   "metadata": {},
   "outputs": [],
   "source": [
    "#columns to convert boolean values into numerical\n",
    "#columns_to_convert = [\"Item_Fat_Content_0\", \"Item_Fat_Content_1\", \"Outlet_Location_Type_0\", \"Outlet_Location_Type_1\", \"Outlet_Location_Type_2\", \"Outlet_Size_0\", \"Outlet_Size_1\", \"Outlet_Size_2\", \"Outlet_Type_Grocery Store\", \"Outlet_Type_Supermarket Type1\", \"Outlet_Type_Supermarket Type2\", \"Outlet_Type_Supermarket Type3\", \"Item_Type_Combined_Drinks\", \"Item_Type_Combined_Food\", \"Item_Type_Combined_Non-Consumable\"]\n",
    "#data[columns_to_convert] = data[columns_to_convert].astype(int)"
   ]
  },
  {
   "cell_type": "code",
   "execution_count": 92,
   "id": "39a2af73",
   "metadata": {},
   "outputs": [
    {
     "data": {
      "text/plain": [
       "Item_Identifier                       object\n",
       "Item_Weight                          float64\n",
       "Item_Visibility                      float64\n",
       "Item_MRP                             float64\n",
       "Outlet_Identifier                     object\n",
       "Item_Outlet_Sales                    float64\n",
       "Outlet_Age                             int64\n",
       "Item_Visibility_bins                   int64\n",
       "Item_Fat_Content_0                      bool\n",
       "Item_Fat_Content_1                      bool\n",
       "Outlet_Location_Type_0                  bool\n",
       "Outlet_Location_Type_1                  bool\n",
       "Outlet_Location_Type_2                  bool\n",
       "Outlet_Size_0                           bool\n",
       "Outlet_Size_1                           bool\n",
       "Outlet_Size_2                           bool\n",
       "Outlet_Type_Grocery Store               bool\n",
       "Outlet_Type_Supermarket Type1           bool\n",
       "Outlet_Type_Supermarket Type2           bool\n",
       "Outlet_Type_Supermarket Type3           bool\n",
       "Item_Type_Combined_Drinks               bool\n",
       "Item_Type_Combined_Food                 bool\n",
       "Item_Type_Combined_Non-Consumable       bool\n",
       "dtype: object"
      ]
     },
     "execution_count": 92,
     "metadata": {},
     "output_type": "execute_result"
    }
   ],
   "source": [
    "#print data types for train2 column\n",
    "train2.dtypes"
   ]
  },
  {
   "cell_type": "code",
   "execution_count": 96,
   "id": "36f01f44",
   "metadata": {},
   "outputs": [],
   "source": [
    "#drop the irrevleant vareiables from train 2 dataset\n",
    "#create independent and dependent variable\n",
    "X_train = train2.drop([\"Item_Outlet_Sales\", \"Outlet_Identifier\", \"Item_Identifier\"], axis = 1)\n",
    "y_train = train2.Item_Outlet_Sales"
   ]
  },
  {
   "cell_type": "code",
   "execution_count": 97,
   "id": "e00123b9",
   "metadata": {},
   "outputs": [],
   "source": [
    "#drop irrevelant var from test 2 dataset\n",
    "X_test = test2.drop([\"Outlet_Identifier\", \"Item_Identifier\"], axis = 1)"
   ]
  },
  {
   "cell_type": "code",
   "execution_count": 98,
   "id": "c06ecb64",
   "metadata": {},
   "outputs": [
    {
     "data": {
      "text/html": [
       "<div>\n",
       "<style scoped>\n",
       "    .dataframe tbody tr th:only-of-type {\n",
       "        vertical-align: middle;\n",
       "    }\n",
       "\n",
       "    .dataframe tbody tr th {\n",
       "        vertical-align: top;\n",
       "    }\n",
       "\n",
       "    .dataframe thead th {\n",
       "        text-align: right;\n",
       "    }\n",
       "</style>\n",
       "<table border=\"1\" class=\"dataframe\">\n",
       "  <thead>\n",
       "    <tr style=\"text-align: right;\">\n",
       "      <th></th>\n",
       "      <th>Item_Weight</th>\n",
       "      <th>Item_Visibility</th>\n",
       "      <th>Item_MRP</th>\n",
       "      <th>Outlet_Age</th>\n",
       "      <th>Item_Visibility_bins</th>\n",
       "      <th>Item_Fat_Content_0</th>\n",
       "      <th>Item_Fat_Content_1</th>\n",
       "      <th>Outlet_Location_Type_0</th>\n",
       "      <th>Outlet_Location_Type_1</th>\n",
       "      <th>Outlet_Location_Type_2</th>\n",
       "      <th>Outlet_Size_0</th>\n",
       "      <th>Outlet_Size_1</th>\n",
       "      <th>Outlet_Size_2</th>\n",
       "      <th>Outlet_Type_Grocery Store</th>\n",
       "      <th>Outlet_Type_Supermarket Type1</th>\n",
       "      <th>Outlet_Type_Supermarket Type2</th>\n",
       "      <th>Outlet_Type_Supermarket Type3</th>\n",
       "      <th>Item_Type_Combined_Drinks</th>\n",
       "      <th>Item_Type_Combined_Food</th>\n",
       "      <th>Item_Type_Combined_Non-Consumable</th>\n",
       "    </tr>\n",
       "  </thead>\n",
       "  <tbody>\n",
       "    <tr>\n",
       "      <th>0</th>\n",
       "      <td>20.750000</td>\n",
       "      <td>0.007565</td>\n",
       "      <td>107.8622</td>\n",
       "      <td>19</td>\n",
       "      <td>1</td>\n",
       "      <td>True</td>\n",
       "      <td>False</td>\n",
       "      <td>True</td>\n",
       "      <td>False</td>\n",
       "      <td>False</td>\n",
       "      <td>False</td>\n",
       "      <td>True</td>\n",
       "      <td>False</td>\n",
       "      <td>False</td>\n",
       "      <td>True</td>\n",
       "      <td>False</td>\n",
       "      <td>False</td>\n",
       "      <td>False</td>\n",
       "      <td>True</td>\n",
       "      <td>False</td>\n",
       "    </tr>\n",
       "    <tr>\n",
       "      <th>1</th>\n",
       "      <td>8.300000</td>\n",
       "      <td>0.038428</td>\n",
       "      <td>87.3198</td>\n",
       "      <td>11</td>\n",
       "      <td>1</td>\n",
       "      <td>False</td>\n",
       "      <td>True</td>\n",
       "      <td>False</td>\n",
       "      <td>True</td>\n",
       "      <td>False</td>\n",
       "      <td>False</td>\n",
       "      <td>True</td>\n",
       "      <td>False</td>\n",
       "      <td>False</td>\n",
       "      <td>True</td>\n",
       "      <td>False</td>\n",
       "      <td>False</td>\n",
       "      <td>False</td>\n",
       "      <td>True</td>\n",
       "      <td>False</td>\n",
       "    </tr>\n",
       "    <tr>\n",
       "      <th>2</th>\n",
       "      <td>14.600000</td>\n",
       "      <td>0.099575</td>\n",
       "      <td>241.7538</td>\n",
       "      <td>20</td>\n",
       "      <td>2</td>\n",
       "      <td>True</td>\n",
       "      <td>False</td>\n",
       "      <td>False</td>\n",
       "      <td>False</td>\n",
       "      <td>True</td>\n",
       "      <td>False</td>\n",
       "      <td>True</td>\n",
       "      <td>False</td>\n",
       "      <td>True</td>\n",
       "      <td>False</td>\n",
       "      <td>False</td>\n",
       "      <td>False</td>\n",
       "      <td>False</td>\n",
       "      <td>False</td>\n",
       "      <td>True</td>\n",
       "    </tr>\n",
       "    <tr>\n",
       "      <th>3</th>\n",
       "      <td>7.315000</td>\n",
       "      <td>0.015388</td>\n",
       "      <td>155.0340</td>\n",
       "      <td>11</td>\n",
       "      <td>1</td>\n",
       "      <td>True</td>\n",
       "      <td>False</td>\n",
       "      <td>False</td>\n",
       "      <td>True</td>\n",
       "      <td>False</td>\n",
       "      <td>False</td>\n",
       "      <td>True</td>\n",
       "      <td>False</td>\n",
       "      <td>False</td>\n",
       "      <td>True</td>\n",
       "      <td>False</td>\n",
       "      <td>False</td>\n",
       "      <td>False</td>\n",
       "      <td>True</td>\n",
       "      <td>False</td>\n",
       "    </tr>\n",
       "    <tr>\n",
       "      <th>4</th>\n",
       "      <td>12.792854</td>\n",
       "      <td>0.118599</td>\n",
       "      <td>234.2300</td>\n",
       "      <td>33</td>\n",
       "      <td>2</td>\n",
       "      <td>False</td>\n",
       "      <td>True</td>\n",
       "      <td>False</td>\n",
       "      <td>False</td>\n",
       "      <td>True</td>\n",
       "      <td>False</td>\n",
       "      <td>True</td>\n",
       "      <td>False</td>\n",
       "      <td>False</td>\n",
       "      <td>False</td>\n",
       "      <td>False</td>\n",
       "      <td>True</td>\n",
       "      <td>False</td>\n",
       "      <td>True</td>\n",
       "      <td>False</td>\n",
       "    </tr>\n",
       "    <tr>\n",
       "      <th>...</th>\n",
       "      <td>...</td>\n",
       "      <td>...</td>\n",
       "      <td>...</td>\n",
       "      <td>...</td>\n",
       "      <td>...</td>\n",
       "      <td>...</td>\n",
       "      <td>...</td>\n",
       "      <td>...</td>\n",
       "      <td>...</td>\n",
       "      <td>...</td>\n",
       "      <td>...</td>\n",
       "      <td>...</td>\n",
       "      <td>...</td>\n",
       "      <td>...</td>\n",
       "      <td>...</td>\n",
       "      <td>...</td>\n",
       "      <td>...</td>\n",
       "      <td>...</td>\n",
       "      <td>...</td>\n",
       "      <td>...</td>\n",
       "    </tr>\n",
       "    <tr>\n",
       "      <th>5563</th>\n",
       "      <td>10.500000</td>\n",
       "      <td>0.013496</td>\n",
       "      <td>141.3154</td>\n",
       "      <td>21</td>\n",
       "      <td>1</td>\n",
       "      <td>False</td>\n",
       "      <td>True</td>\n",
       "      <td>True</td>\n",
       "      <td>False</td>\n",
       "      <td>False</td>\n",
       "      <td>False</td>\n",
       "      <td>False</td>\n",
       "      <td>True</td>\n",
       "      <td>False</td>\n",
       "      <td>True</td>\n",
       "      <td>False</td>\n",
       "      <td>False</td>\n",
       "      <td>False</td>\n",
       "      <td>True</td>\n",
       "      <td>False</td>\n",
       "    </tr>\n",
       "    <tr>\n",
       "      <th>5564</th>\n",
       "      <td>7.600000</td>\n",
       "      <td>0.142991</td>\n",
       "      <td>169.1448</td>\n",
       "      <td>9</td>\n",
       "      <td>0</td>\n",
       "      <td>False</td>\n",
       "      <td>True</td>\n",
       "      <td>False</td>\n",
       "      <td>False</td>\n",
       "      <td>True</td>\n",
       "      <td>False</td>\n",
       "      <td>True</td>\n",
       "      <td>False</td>\n",
       "      <td>False</td>\n",
       "      <td>False</td>\n",
       "      <td>True</td>\n",
       "      <td>False</td>\n",
       "      <td>False</td>\n",
       "      <td>True</td>\n",
       "      <td>False</td>\n",
       "    </tr>\n",
       "    <tr>\n",
       "      <th>5565</th>\n",
       "      <td>10.000000</td>\n",
       "      <td>0.073529</td>\n",
       "      <td>118.7440</td>\n",
       "      <td>16</td>\n",
       "      <td>2</td>\n",
       "      <td>True</td>\n",
       "      <td>False</td>\n",
       "      <td>False</td>\n",
       "      <td>True</td>\n",
       "      <td>False</td>\n",
       "      <td>False</td>\n",
       "      <td>True</td>\n",
       "      <td>False</td>\n",
       "      <td>False</td>\n",
       "      <td>True</td>\n",
       "      <td>False</td>\n",
       "      <td>False</td>\n",
       "      <td>False</td>\n",
       "      <td>False</td>\n",
       "      <td>True</td>\n",
       "    </tr>\n",
       "    <tr>\n",
       "      <th>5566</th>\n",
       "      <td>15.300000</td>\n",
       "      <td>0.000000</td>\n",
       "      <td>214.6218</td>\n",
       "      <td>11</td>\n",
       "      <td>3</td>\n",
       "      <td>False</td>\n",
       "      <td>True</td>\n",
       "      <td>False</td>\n",
       "      <td>True</td>\n",
       "      <td>False</td>\n",
       "      <td>False</td>\n",
       "      <td>True</td>\n",
       "      <td>False</td>\n",
       "      <td>False</td>\n",
       "      <td>True</td>\n",
       "      <td>False</td>\n",
       "      <td>False</td>\n",
       "      <td>False</td>\n",
       "      <td>True</td>\n",
       "      <td>False</td>\n",
       "    </tr>\n",
       "    <tr>\n",
       "      <th>5567</th>\n",
       "      <td>9.500000</td>\n",
       "      <td>0.104720</td>\n",
       "      <td>79.7960</td>\n",
       "      <td>16</td>\n",
       "      <td>2</td>\n",
       "      <td>False</td>\n",
       "      <td>True</td>\n",
       "      <td>False</td>\n",
       "      <td>True</td>\n",
       "      <td>False</td>\n",
       "      <td>False</td>\n",
       "      <td>True</td>\n",
       "      <td>False</td>\n",
       "      <td>False</td>\n",
       "      <td>True</td>\n",
       "      <td>False</td>\n",
       "      <td>False</td>\n",
       "      <td>False</td>\n",
       "      <td>True</td>\n",
       "      <td>False</td>\n",
       "    </tr>\n",
       "  </tbody>\n",
       "</table>\n",
       "<p>5568 rows × 20 columns</p>\n",
       "</div>"
      ],
      "text/plain": [
       "      Item_Weight  Item_Visibility  Item_MRP  Outlet_Age  \\\n",
       "0       20.750000         0.007565  107.8622          19   \n",
       "1        8.300000         0.038428   87.3198          11   \n",
       "2       14.600000         0.099575  241.7538          20   \n",
       "3        7.315000         0.015388  155.0340          11   \n",
       "4       12.792854         0.118599  234.2300          33   \n",
       "...           ...              ...       ...         ...   \n",
       "5563    10.500000         0.013496  141.3154          21   \n",
       "5564     7.600000         0.142991  169.1448           9   \n",
       "5565    10.000000         0.073529  118.7440          16   \n",
       "5566    15.300000         0.000000  214.6218          11   \n",
       "5567     9.500000         0.104720   79.7960          16   \n",
       "\n",
       "      Item_Visibility_bins  Item_Fat_Content_0  Item_Fat_Content_1  \\\n",
       "0                        1                True               False   \n",
       "1                        1               False                True   \n",
       "2                        2                True               False   \n",
       "3                        1                True               False   \n",
       "4                        2               False                True   \n",
       "...                    ...                 ...                 ...   \n",
       "5563                     1               False                True   \n",
       "5564                     0               False                True   \n",
       "5565                     2                True               False   \n",
       "5566                     3               False                True   \n",
       "5567                     2               False                True   \n",
       "\n",
       "      Outlet_Location_Type_0  Outlet_Location_Type_1  Outlet_Location_Type_2  \\\n",
       "0                       True                   False                   False   \n",
       "1                      False                    True                   False   \n",
       "2                      False                   False                    True   \n",
       "3                      False                    True                   False   \n",
       "4                      False                   False                    True   \n",
       "...                      ...                     ...                     ...   \n",
       "5563                    True                   False                   False   \n",
       "5564                   False                   False                    True   \n",
       "5565                   False                    True                   False   \n",
       "5566                   False                    True                   False   \n",
       "5567                   False                    True                   False   \n",
       "\n",
       "      Outlet_Size_0  Outlet_Size_1  Outlet_Size_2  Outlet_Type_Grocery Store  \\\n",
       "0             False           True          False                      False   \n",
       "1             False           True          False                      False   \n",
       "2             False           True          False                       True   \n",
       "3             False           True          False                      False   \n",
       "4             False           True          False                      False   \n",
       "...             ...            ...            ...                        ...   \n",
       "5563          False          False           True                      False   \n",
       "5564          False           True          False                      False   \n",
       "5565          False           True          False                      False   \n",
       "5566          False           True          False                      False   \n",
       "5567          False           True          False                      False   \n",
       "\n",
       "      Outlet_Type_Supermarket Type1  Outlet_Type_Supermarket Type2  \\\n",
       "0                              True                          False   \n",
       "1                              True                          False   \n",
       "2                             False                          False   \n",
       "3                              True                          False   \n",
       "4                             False                          False   \n",
       "...                             ...                            ...   \n",
       "5563                           True                          False   \n",
       "5564                          False                           True   \n",
       "5565                           True                          False   \n",
       "5566                           True                          False   \n",
       "5567                           True                          False   \n",
       "\n",
       "      Outlet_Type_Supermarket Type3  Item_Type_Combined_Drinks  \\\n",
       "0                             False                      False   \n",
       "1                             False                      False   \n",
       "2                             False                      False   \n",
       "3                             False                      False   \n",
       "4                              True                      False   \n",
       "...                             ...                        ...   \n",
       "5563                          False                      False   \n",
       "5564                          False                      False   \n",
       "5565                          False                      False   \n",
       "5566                          False                      False   \n",
       "5567                          False                      False   \n",
       "\n",
       "      Item_Type_Combined_Food  Item_Type_Combined_Non-Consumable  \n",
       "0                        True                              False  \n",
       "1                        True                              False  \n",
       "2                       False                               True  \n",
       "3                        True                              False  \n",
       "4                        True                              False  \n",
       "...                       ...                                ...  \n",
       "5563                     True                              False  \n",
       "5564                     True                              False  \n",
       "5565                    False                               True  \n",
       "5566                     True                              False  \n",
       "5567                     True                              False  \n",
       "\n",
       "[5568 rows x 20 columns]"
      ]
     },
     "execution_count": 98,
     "metadata": {},
     "output_type": "execute_result"
    }
   ],
   "source": [
    "X_test"
   ]
  },
  {
   "cell_type": "code",
   "execution_count": 99,
   "id": "586c7494",
   "metadata": {},
   "outputs": [
    {
     "data": {
      "text/html": [
       "<div>\n",
       "<style scoped>\n",
       "    .dataframe tbody tr th:only-of-type {\n",
       "        vertical-align: middle;\n",
       "    }\n",
       "\n",
       "    .dataframe tbody tr th {\n",
       "        vertical-align: top;\n",
       "    }\n",
       "\n",
       "    .dataframe thead th {\n",
       "        text-align: right;\n",
       "    }\n",
       "</style>\n",
       "<table border=\"1\" class=\"dataframe\">\n",
       "  <thead>\n",
       "    <tr style=\"text-align: right;\">\n",
       "      <th></th>\n",
       "      <th>Item_Weight</th>\n",
       "      <th>Item_Visibility</th>\n",
       "      <th>Item_MRP</th>\n",
       "      <th>Outlet_Age</th>\n",
       "      <th>Item_Visibility_bins</th>\n",
       "      <th>Item_Fat_Content_0</th>\n",
       "      <th>Item_Fat_Content_1</th>\n",
       "      <th>Outlet_Location_Type_0</th>\n",
       "      <th>Outlet_Location_Type_1</th>\n",
       "      <th>Outlet_Location_Type_2</th>\n",
       "      <th>Outlet_Size_0</th>\n",
       "      <th>Outlet_Size_1</th>\n",
       "      <th>Outlet_Size_2</th>\n",
       "      <th>Outlet_Type_Grocery Store</th>\n",
       "      <th>Outlet_Type_Supermarket Type1</th>\n",
       "      <th>Outlet_Type_Supermarket Type2</th>\n",
       "      <th>Outlet_Type_Supermarket Type3</th>\n",
       "      <th>Item_Type_Combined_Drinks</th>\n",
       "      <th>Item_Type_Combined_Food</th>\n",
       "      <th>Item_Type_Combined_Non-Consumable</th>\n",
       "    </tr>\n",
       "  </thead>\n",
       "  <tbody>\n",
       "    <tr>\n",
       "      <th>0</th>\n",
       "      <td>9.30</td>\n",
       "      <td>0.016047</td>\n",
       "      <td>249.8092</td>\n",
       "      <td>19</td>\n",
       "      <td>1</td>\n",
       "      <td>True</td>\n",
       "      <td>False</td>\n",
       "      <td>True</td>\n",
       "      <td>False</td>\n",
       "      <td>False</td>\n",
       "      <td>False</td>\n",
       "      <td>True</td>\n",
       "      <td>False</td>\n",
       "      <td>False</td>\n",
       "      <td>True</td>\n",
       "      <td>False</td>\n",
       "      <td>False</td>\n",
       "      <td>False</td>\n",
       "      <td>True</td>\n",
       "      <td>False</td>\n",
       "    </tr>\n",
       "    <tr>\n",
       "      <th>1</th>\n",
       "      <td>5.92</td>\n",
       "      <td>0.019278</td>\n",
       "      <td>48.2692</td>\n",
       "      <td>9</td>\n",
       "      <td>1</td>\n",
       "      <td>False</td>\n",
       "      <td>True</td>\n",
       "      <td>False</td>\n",
       "      <td>False</td>\n",
       "      <td>True</td>\n",
       "      <td>False</td>\n",
       "      <td>True</td>\n",
       "      <td>False</td>\n",
       "      <td>False</td>\n",
       "      <td>False</td>\n",
       "      <td>True</td>\n",
       "      <td>False</td>\n",
       "      <td>True</td>\n",
       "      <td>False</td>\n",
       "      <td>False</td>\n",
       "    </tr>\n",
       "  </tbody>\n",
       "</table>\n",
       "</div>"
      ],
      "text/plain": [
       "   Item_Weight  Item_Visibility  Item_MRP  Outlet_Age  Item_Visibility_bins  \\\n",
       "0         9.30         0.016047  249.8092          19                     1   \n",
       "1         5.92         0.019278   48.2692           9                     1   \n",
       "\n",
       "   Item_Fat_Content_0  Item_Fat_Content_1  Outlet_Location_Type_0  \\\n",
       "0                True               False                    True   \n",
       "1               False                True                   False   \n",
       "\n",
       "   Outlet_Location_Type_1  Outlet_Location_Type_2  Outlet_Size_0  \\\n",
       "0                   False                   False          False   \n",
       "1                   False                    True          False   \n",
       "\n",
       "   Outlet_Size_1  Outlet_Size_2  Outlet_Type_Grocery Store  \\\n",
       "0           True          False                      False   \n",
       "1           True          False                      False   \n",
       "\n",
       "   Outlet_Type_Supermarket Type1  Outlet_Type_Supermarket Type2  \\\n",
       "0                           True                          False   \n",
       "1                          False                           True   \n",
       "\n",
       "   Outlet_Type_Supermarket Type3  Item_Type_Combined_Drinks  \\\n",
       "0                          False                      False   \n",
       "1                          False                       True   \n",
       "\n",
       "   Item_Type_Combined_Food  Item_Type_Combined_Non-Consumable  \n",
       "0                     True                              False  \n",
       "1                    False                              False  "
      ]
     },
     "execution_count": 99,
     "metadata": {},
     "output_type": "execute_result"
    }
   ],
   "source": [
    "X_train.head(2)"
   ]
  },
  {
   "cell_type": "code",
   "execution_count": 101,
   "id": "b90f9033",
   "metadata": {},
   "outputs": [
    {
     "data": {
      "text/plain": [
       "0    3735.1380\n",
       "1     443.4228\n",
       "Name: Item_Outlet_Sales, dtype: float64"
      ]
     },
     "execution_count": 101,
     "metadata": {},
     "output_type": "execute_result"
    }
   ],
   "source": [
    "y_train.head(2)"
   ]
  },
  {
   "cell_type": "code",
   "execution_count": 102,
   "id": "26707234",
   "metadata": {},
   "outputs": [],
   "source": [
    "#import sklearn library for model selction\n",
    "from sklearn import model_selection\n",
    "from sklearn.linear_model import LinearRegression\n"
   ]
  },
  {
   "cell_type": "code",
   "execution_count": 107,
   "id": "127e1348",
   "metadata": {},
   "outputs": [],
   "source": [
    "#create train and test split (using xtrain and ytrain for linear regression)\n",
    "xtrain, xtest, ytrain, ytest = model_selection.train_test_split(X_train, y_train, test_size = 0.3, random_state = 42)"
   ]
  },
  {
   "cell_type": "code",
   "execution_count": 108,
   "id": "fa8eb4e9",
   "metadata": {},
   "outputs": [],
   "source": [
    "#fit linear regression to training dataset\n",
    "lin = LinearRegression()"
   ]
  },
  {
   "cell_type": "code",
   "execution_count": 109,
   "id": "86d72e9e",
   "metadata": {},
   "outputs": [
    {
     "data": {
      "text/html": [
       "<style>#sk-container-id-1 {color: black;}#sk-container-id-1 pre{padding: 0;}#sk-container-id-1 div.sk-toggleable {background-color: white;}#sk-container-id-1 label.sk-toggleable__label {cursor: pointer;display: block;width: 100%;margin-bottom: 0;padding: 0.3em;box-sizing: border-box;text-align: center;}#sk-container-id-1 label.sk-toggleable__label-arrow:before {content: \"▸\";float: left;margin-right: 0.25em;color: #696969;}#sk-container-id-1 label.sk-toggleable__label-arrow:hover:before {color: black;}#sk-container-id-1 div.sk-estimator:hover label.sk-toggleable__label-arrow:before {color: black;}#sk-container-id-1 div.sk-toggleable__content {max-height: 0;max-width: 0;overflow: hidden;text-align: left;background-color: #f0f8ff;}#sk-container-id-1 div.sk-toggleable__content pre {margin: 0.2em;color: black;border-radius: 0.25em;background-color: #f0f8ff;}#sk-container-id-1 input.sk-toggleable__control:checked~div.sk-toggleable__content {max-height: 200px;max-width: 100%;overflow: auto;}#sk-container-id-1 input.sk-toggleable__control:checked~label.sk-toggleable__label-arrow:before {content: \"▾\";}#sk-container-id-1 div.sk-estimator input.sk-toggleable__control:checked~label.sk-toggleable__label {background-color: #d4ebff;}#sk-container-id-1 div.sk-label input.sk-toggleable__control:checked~label.sk-toggleable__label {background-color: #d4ebff;}#sk-container-id-1 input.sk-hidden--visually {border: 0;clip: rect(1px 1px 1px 1px);clip: rect(1px, 1px, 1px, 1px);height: 1px;margin: -1px;overflow: hidden;padding: 0;position: absolute;width: 1px;}#sk-container-id-1 div.sk-estimator {font-family: monospace;background-color: #f0f8ff;border: 1px dotted black;border-radius: 0.25em;box-sizing: border-box;margin-bottom: 0.5em;}#sk-container-id-1 div.sk-estimator:hover {background-color: #d4ebff;}#sk-container-id-1 div.sk-parallel-item::after {content: \"\";width: 100%;border-bottom: 1px solid gray;flex-grow: 1;}#sk-container-id-1 div.sk-label:hover label.sk-toggleable__label {background-color: #d4ebff;}#sk-container-id-1 div.sk-serial::before {content: \"\";position: absolute;border-left: 1px solid gray;box-sizing: border-box;top: 0;bottom: 0;left: 50%;z-index: 0;}#sk-container-id-1 div.sk-serial {display: flex;flex-direction: column;align-items: center;background-color: white;padding-right: 0.2em;padding-left: 0.2em;position: relative;}#sk-container-id-1 div.sk-item {position: relative;z-index: 1;}#sk-container-id-1 div.sk-parallel {display: flex;align-items: stretch;justify-content: center;background-color: white;position: relative;}#sk-container-id-1 div.sk-item::before, #sk-container-id-1 div.sk-parallel-item::before {content: \"\";position: absolute;border-left: 1px solid gray;box-sizing: border-box;top: 0;bottom: 0;left: 50%;z-index: -1;}#sk-container-id-1 div.sk-parallel-item {display: flex;flex-direction: column;z-index: 1;position: relative;background-color: white;}#sk-container-id-1 div.sk-parallel-item:first-child::after {align-self: flex-end;width: 50%;}#sk-container-id-1 div.sk-parallel-item:last-child::after {align-self: flex-start;width: 50%;}#sk-container-id-1 div.sk-parallel-item:only-child::after {width: 0;}#sk-container-id-1 div.sk-dashed-wrapped {border: 1px dashed gray;margin: 0 0.4em 0.5em 0.4em;box-sizing: border-box;padding-bottom: 0.4em;background-color: white;}#sk-container-id-1 div.sk-label label {font-family: monospace;font-weight: bold;display: inline-block;line-height: 1.2em;}#sk-container-id-1 div.sk-label-container {text-align: center;}#sk-container-id-1 div.sk-container {/* jupyter's `normalize.less` sets `[hidden] { display: none; }` but bootstrap.min.css set `[hidden] { display: none !important; }` so we also need the `!important` here to be able to override the default hidden behavior on the sphinx rendered scikit-learn.org. See: https://github.com/scikit-learn/scikit-learn/issues/21755 */display: inline-block !important;position: relative;}#sk-container-id-1 div.sk-text-repr-fallback {display: none;}</style><div id=\"sk-container-id-1\" class=\"sk-top-container\"><div class=\"sk-text-repr-fallback\"><pre>LinearRegression()</pre><b>In a Jupyter environment, please rerun this cell to show the HTML representation or trust the notebook. <br />On GitHub, the HTML representation is unable to render, please try loading this page with nbviewer.org.</b></div><div class=\"sk-container\" hidden><div class=\"sk-item\"><div class=\"sk-estimator sk-toggleable\"><input class=\"sk-toggleable__control sk-hidden--visually\" id=\"sk-estimator-id-1\" type=\"checkbox\" checked><label for=\"sk-estimator-id-1\" class=\"sk-toggleable__label sk-toggleable__label-arrow\">LinearRegression</label><div class=\"sk-toggleable__content\"><pre>LinearRegression()</pre></div></div></div></div></div>"
      ],
      "text/plain": [
       "LinearRegression()"
      ]
     },
     "execution_count": 109,
     "metadata": {},
     "output_type": "execute_result"
    }
   ],
   "source": [
    "lin.fit(xtrain, ytrain)"
   ]
  },
  {
   "cell_type": "code",
   "execution_count": 110,
   "id": "f8ef4ee4",
   "metadata": {},
   "outputs": [
    {
     "name": "stdout",
     "output_type": "stream",
     "text": [
      "[-1.93054423e+00 -3.47449893e+02  1.58788136e+01 -3.19310190e+01\n",
      " -4.64698319e+00 -1.55426303e+00  1.55426303e+00  1.88969149e+02\n",
      "  4.83874237e+01 -2.37356573e+02  5.39972452e+02 -3.11545503e+02\n",
      " -2.28426949e+02 -1.63452944e+03 -1.26820412e+02 -3.48655405e+02\n",
      "  2.11000526e+03  9.06454503e+00  3.46403369e+01 -4.37048820e+01]\n"
     ]
    },
    {
     "data": {
      "text/plain": [
       "946.4212171360916"
      ]
     },
     "execution_count": 110,
     "metadata": {},
     "output_type": "execute_result"
    }
   ],
   "source": [
    "#find coefficient and intercept of line\n",
    "print(lin.coef_)\n",
    "lin.intercept_\n"
   ]
  },
  {
   "cell_type": "code",
   "execution_count": 111,
   "id": "3ec1ce98",
   "metadata": {},
   "outputs": [
    {
     "data": {
      "text/plain": [
       "array([2077.92386202, 3704.93216108, 2961.28180591, ..., 3541.28725867,\n",
       "       3464.78656382, 1249.59368407])"
      ]
     },
     "execution_count": 111,
     "metadata": {},
     "output_type": "execute_result"
    }
   ],
   "source": [
    "#predict teh test set results of training data\n",
    "predictions = lin.predict(xtest)\n",
    "predictions\n"
   ]
  },
  {
   "cell_type": "code",
   "execution_count": 112,
   "id": "50b904a9",
   "metadata": {},
   "outputs": [],
   "source": [
    "import math"
   ]
  },
  {
   "cell_type": "code",
   "execution_count": 113,
   "id": "dc7b5f63",
   "metadata": {},
   "outputs": [
    {
     "name": "stdout",
     "output_type": "stream",
     "text": [
      "1126.2352692434754\n"
     ]
    }
   ],
   "source": [
    "#Find root mean squared error for the model\n",
    "print(math.sqrt(mean_squared_error(ytest,predictions)))"
   ]
  },
  {
   "cell_type": "code",
   "execution_count": 114,
   "id": "b73a81f5",
   "metadata": {},
   "outputs": [],
   "source": [
    "#The RMSE is quite low since a good RMSE for this problem would be 1130\n",
    "#we can improve this by using algorithms such as decision trees, random forest and XGboost"
   ]
  },
  {
   "cell_type": "code",
   "execution_count": 117,
   "id": "421ed582",
   "metadata": {},
   "outputs": [
    {
     "data": {
      "text/plain": [
       "array([1788.81075495, 1593.90875193, 1845.79649796, ..., 1831.65421972,\n",
       "       3605.8573969 , 1284.78769015])"
      ]
     },
     "execution_count": 117,
     "metadata": {},
     "output_type": "execute_result"
    }
   ],
   "source": [
    "#predict the solumn item outlet sales of test dataset\n",
    "y_sales_pred = lin.predict(X_test)\n",
    "y_sales_pred"
   ]
  },
  {
   "cell_type": "code",
   "execution_count": 119,
   "id": "bf4a2cce",
   "metadata": {},
   "outputs": [],
   "source": [
    "#Create dataframe to map value for item identifier\n",
    "test_predictions = pd.DataFrame({\n",
    "    'Item_Identifier': test2['Item_Identifier'],\n",
    "    'Outlet_Identifier': test2['Outlet_Identifier'],\n",
    "    'Item_Outlet_Sales': y_sales_pred\n",
    "}, columns = ['Item_Identifier', 'Outlet_Identifier', 'Item_Outlet_Sales'])"
   ]
  },
  {
   "cell_type": "code",
   "execution_count": 120,
   "id": "ffd651d1",
   "metadata": {},
   "outputs": [
    {
     "data": {
      "text/html": [
       "<div>\n",
       "<style scoped>\n",
       "    .dataframe tbody tr th:only-of-type {\n",
       "        vertical-align: middle;\n",
       "    }\n",
       "\n",
       "    .dataframe tbody tr th {\n",
       "        vertical-align: top;\n",
       "    }\n",
       "\n",
       "    .dataframe thead th {\n",
       "        text-align: right;\n",
       "    }\n",
       "</style>\n",
       "<table border=\"1\" class=\"dataframe\">\n",
       "  <thead>\n",
       "    <tr style=\"text-align: right;\">\n",
       "      <th></th>\n",
       "      <th>Item_Identifier</th>\n",
       "      <th>Outlet_Identifier</th>\n",
       "      <th>Item_Outlet_Sales</th>\n",
       "    </tr>\n",
       "  </thead>\n",
       "  <tbody>\n",
       "    <tr>\n",
       "      <th>0</th>\n",
       "      <td>FDW58</td>\n",
       "      <td>OUT049</td>\n",
       "      <td>1788.810755</td>\n",
       "    </tr>\n",
       "    <tr>\n",
       "      <th>1</th>\n",
       "      <td>FDW14</td>\n",
       "      <td>OUT017</td>\n",
       "      <td>1593.908752</td>\n",
       "    </tr>\n",
       "    <tr>\n",
       "      <th>2</th>\n",
       "      <td>NCN55</td>\n",
       "      <td>OUT010</td>\n",
       "      <td>1845.796498</td>\n",
       "    </tr>\n",
       "    <tr>\n",
       "      <th>3</th>\n",
       "      <td>FDQ58</td>\n",
       "      <td>OUT017</td>\n",
       "      <td>2675.927968</td>\n",
       "    </tr>\n",
       "    <tr>\n",
       "      <th>4</th>\n",
       "      <td>FDY38</td>\n",
       "      <td>OUT027</td>\n",
       "      <td>5134.091429</td>\n",
       "    </tr>\n",
       "    <tr>\n",
       "      <th>...</th>\n",
       "      <td>...</td>\n",
       "      <td>...</td>\n",
       "      <td>...</td>\n",
       "    </tr>\n",
       "    <tr>\n",
       "      <th>5563</th>\n",
       "      <td>FDB58</td>\n",
       "      <td>OUT046</td>\n",
       "      <td>2360.100059</td>\n",
       "    </tr>\n",
       "    <tr>\n",
       "      <th>5564</th>\n",
       "      <td>FDD47</td>\n",
       "      <td>OUT018</td>\n",
       "      <td>2419.143609</td>\n",
       "    </tr>\n",
       "    <tr>\n",
       "      <th>5565</th>\n",
       "      <td>NCO17</td>\n",
       "      <td>OUT045</td>\n",
       "      <td>1831.654220</td>\n",
       "    </tr>\n",
       "    <tr>\n",
       "      <th>5566</th>\n",
       "      <td>FDJ26</td>\n",
       "      <td>OUT017</td>\n",
       "      <td>3605.857397</td>\n",
       "    </tr>\n",
       "    <tr>\n",
       "      <th>5567</th>\n",
       "      <td>FDU37</td>\n",
       "      <td>OUT045</td>\n",
       "      <td>1284.787690</td>\n",
       "    </tr>\n",
       "  </tbody>\n",
       "</table>\n",
       "<p>5568 rows × 3 columns</p>\n",
       "</div>"
      ],
      "text/plain": [
       "     Item_Identifier Outlet_Identifier  Item_Outlet_Sales\n",
       "0              FDW58            OUT049        1788.810755\n",
       "1              FDW14            OUT017        1593.908752\n",
       "2              NCN55            OUT010        1845.796498\n",
       "3              FDQ58            OUT017        2675.927968\n",
       "4              FDY38            OUT027        5134.091429\n",
       "...              ...               ...                ...\n",
       "5563           FDB58            OUT046        2360.100059\n",
       "5564           FDD47            OUT018        2419.143609\n",
       "5565           NCO17            OUT045        1831.654220\n",
       "5566           FDJ26            OUT017        3605.857397\n",
       "5567           FDU37            OUT045        1284.787690\n",
       "\n",
       "[5568 rows x 3 columns]"
      ]
     },
     "execution_count": 120,
     "metadata": {},
     "output_type": "execute_result"
    }
   ],
   "source": [
    "test_predictions"
   ]
  },
  {
   "cell_type": "code",
   "execution_count": null,
   "id": "cc78a8c3",
   "metadata": {},
   "outputs": [],
   "source": []
  }
 ],
 "metadata": {
  "kernelspec": {
   "display_name": "Python 3 (ipykernel)",
   "language": "python",
   "name": "python3"
  },
  "language_info": {
   "codemirror_mode": {
    "name": "ipython",
    "version": 3
   },
   "file_extension": ".py",
   "mimetype": "text/x-python",
   "name": "python",
   "nbconvert_exporter": "python",
   "pygments_lexer": "ipython3",
   "version": "3.11.4"
  }
 },
 "nbformat": 4,
 "nbformat_minor": 5
}
